{
 "cells": [
  {
   "attachments": {},
   "cell_type": "markdown",
   "metadata": {},
   "source": [
    "-------PYTHON PROJECT------"
   ]
  },
  {
   "attachments": {},
   "cell_type": "markdown",
   "metadata": {},
   "source": [
    "date---21 feb\n",
    "string operation"
   ]
  },
  {
   "cell_type": "code",
   "execution_count": 43,
   "metadata": {},
   "outputs": [
    {
     "data": {
      "text/plain": [
       "11"
      ]
     },
     "execution_count": 43,
     "metadata": {},
     "output_type": "execute_result"
    }
   ],
   "source": [
    "def add(num1,num2):\n",
    "    return num1+num2\n",
    "\n",
    "a=int(input(\"enter your first num\"))\n",
    "b=int(input(\"enter second number\"))\n",
    "add(a,b)"
   ]
  },
  {
   "attachments": {},
   "cell_type": "markdown",
   "metadata": {},
   "source": [
    "filter\n",
    "map\n",
    "decorr ke ander inner function ko call krna hoga\n"
   ]
  },
  {
   "cell_type": "code",
   "execution_count": 44,
   "metadata": {},
   "outputs": [
    {
     "data": {
      "text/plain": [
       "'ani'"
      ]
     },
     "execution_count": 44,
     "metadata": {},
     "output_type": "execute_result"
    }
   ],
   "source": [
    "def wish(name):\n",
    "    return name\n",
    "name=input(\"enter your name\")\n",
    "wish(name)"
   ]
  },
  {
   "cell_type": "code",
   "execution_count": 52,
   "metadata": {},
   "outputs": [
    {
     "ename": "TypeError",
     "evalue": "function missing required argument 'year' (pos 1)",
     "output_type": "error",
     "traceback": [
      "\u001b[1;31m---------------------------------------------------------------------------\u001b[0m",
      "\u001b[1;31mTypeError\u001b[0m                                 Traceback (most recent call last)",
      "\u001b[1;32m~\\AppData\\Local\\Temp\\ipykernel_3172\\2257260200.py\u001b[0m in \u001b[0;36m<module>\u001b[1;34m\u001b[0m\n\u001b[0;32m      8\u001b[0m \u001b[1;31m#(y.year)#to access particular value\u001b[0m\u001b[1;33m\u001b[0m\u001b[1;33m\u001b[0m\u001b[0m\n\u001b[0;32m      9\u001b[0m \u001b[0mtDuration\u001b[0m\u001b[1;33m=\u001b[0m\u001b[0mtimedelta\u001b[0m\u001b[1;33m(\u001b[0m\u001b[0mminutes\u001b[0m\u001b[1;33m=\u001b[0m\u001b[1;36m2\u001b[0m\u001b[1;33m)\u001b[0m\u001b[1;33m\u001b[0m\u001b[1;33m\u001b[0m\u001b[0m\n\u001b[1;32m---> 10\u001b[1;33m \u001b[0malarmTime\u001b[0m\u001b[1;33m=\u001b[0m\u001b[0mdatetime\u001b[0m\u001b[1;33m(\u001b[0m\u001b[0mhour\u001b[0m\u001b[1;33m=\u001b[0m\u001b[1;36m12\u001b[0m\u001b[1;33m,\u001b[0m\u001b[0mminute\u001b[0m\u001b[1;33m=\u001b[0m\u001b[1;36m4\u001b[0m\u001b[1;33m,\u001b[0m\u001b[0msecond\u001b[0m\u001b[1;33m=\u001b[0m\u001b[1;36m7\u001b[0m\u001b[1;33m)\u001b[0m \u001b[1;33m+\u001b[0m \u001b[0mtDuration\u001b[0m\u001b[1;33m\u001b[0m\u001b[1;33m\u001b[0m\u001b[0m\n\u001b[0m\u001b[0;32m     11\u001b[0m \u001b[0mprint\u001b[0m\u001b[1;33m(\u001b[0m\u001b[0malarmTime\u001b[0m\u001b[1;33m)\u001b[0m\u001b[1;33m\u001b[0m\u001b[1;33m\u001b[0m\u001b[0m\n\u001b[0;32m     12\u001b[0m \u001b[1;33m\u001b[0m\u001b[0m\n",
      "\u001b[1;31mTypeError\u001b[0m: function missing required argument 'year' (pos 1)"
     ]
    }
   ],
   "source": [
    "#data and time properties\n",
    "#methods--now,today,\n",
    "from datetime import datetime\n",
    "from datetime import timedelta\n",
    "v=datetime.now() #t=datetime.today()  --returns same\n",
    "y=datetime(year=2022,month=4,day=14,hour=9,minute=15,second=12)#to print specified year and date and time\n",
    "y=datetime(2022,6,3,3,12,34)#alternative of above \n",
    "#(y.year)#to access particular value \n",
    "tDuration=timedelta(minutes=2)\n",
    "alarmTime=datetime(hour=12,minute=4,second=7) + tDuration\n",
    "print(alarmTime)\n",
    "\n"
   ]
  },
  {
   "cell_type": "code",
   "execution_count": 37,
   "metadata": {},
   "outputs": [
    {
     "name": "stdout",
     "output_type": "stream",
     "text": [
      "1676958643.7243931\n",
      "Tue Feb 21 11:20:43 2023\n",
      "21/2/2023\n",
      "time.struct_time(tm_year=2023, tm_mon=2, tm_mday=21, tm_hour=11, tm_min=20, tm_sec=43, tm_wday=1, tm_yday=52, tm_isdst=0)\n"
     ]
    }
   ],
   "source": [
    "#time module\n",
    "from datetime import datetime\n",
    "from time import time,ctime,localtime #classes of \n",
    "epoch=time()\n",
    "print(epoch)\n",
    "et=ctime(epoch)\n",
    "lt=localtime(epoch)\n",
    "print(et)\n",
    "print(lt.tm_mday,end=\"/\")\n",
    "print(lt.tm_mon,end=\"/\")\n",
    "print(lt.tm_year)\n",
    "print(lt)"
   ]
  },
  {
   "attachments": {},
   "cell_type": "markdown",
   "metadata": {},
   "source": [
    "date---20feb\n",
    "\n",
    "----NUMPY OPERATION-----\n",
    "relation operator in numpy\n",
    "numpy operation\n",
    "any -- or\n",
    "all---and\n",
    "id\n",
    "where\n",
    "nonzero"
   ]
  },
  {
   "cell_type": "code",
   "execution_count": null,
   "metadata": {},
   "outputs": [],
   "source": [
    "from numpy import *\n",
    "a=array([2,3,4,5,6])\n",
    "b=array([2,4,5,6,3])\n",
    "c=a==b\n",
    "print(any(c))#or\n",
    "print(all(c))#performs similar to and logic\n",
    "d=where(a>b,a,b)\n",
    "e=nonzero(b)\n",
    "print(d)\n",
    "print(e)"
   ]
  },
  {
   "cell_type": "code",
   "execution_count": null,
   "metadata": {},
   "outputs": [],
   "source": [
    "#mathematical operation on numpy\n",
    "from numpy import *\n",
    "a=array([3,4,5,6,6])\n",
    "c=a+7\n",
    "print(c)"
   ]
  },
  {
   "attachments": {},
   "cell_type": "markdown",
   "metadata": {},
   "source": [
    "Array manipulation\n"
   ]
  },
  {
   "cell_type": "code",
   "execution_count": null,
   "metadata": {},
   "outputs": [],
   "source": [
    "#Quiz game\n",
    "def new_game():\n",
    "    guesses=[]\n",
    "    correct_guesses=0\n",
    "    question_num=1\n",
    "    for key in questions:\n",
    "        print(\"-----------------\")\n",
    "       \n",
    "        print(key)\n",
    "        for i in options[question_num-1]:\n",
    "            print(i)\n",
    "        guess=input(\"enter (A,B,C,or D):\")\n",
    "        guess=guess.upper()\n",
    "        guesses.append(guess)\n",
    "        correct_guesses += check_answer(questions.get(key),guess)\n",
    "        question_num +=1\n",
    "    display_score(correct_guesses,guesses)\n",
    "\n",
    "def check_answer(answer,guess):\n",
    "    if answer==guess:\n",
    "        print(\"correct\")\n",
    "        return 1\n",
    "    else:\n",
    "        print(\"wrong!\")\n",
    "        return 0\n",
    "\n",
    "def display_score(correct_guesses,guesses):\n",
    "    print(\"-----------------\")\n",
    "    print(\"Results\")\n",
    "    print(\"-----------------\")\n",
    "    print(\"Answers: \",end=\"\")\n",
    "    for i in questions:\n",
    "        print(questions.get(i),end=\" \")\n",
    "    print()\n",
    "    print(\"Guesses: \",end=\"\")\n",
    "    for i in guesses:\n",
    "        print(i,end=\" \")\n",
    "    print()\n",
    "    score=(correct_guesses/len(questions)*100)\n",
    "    print(\"your score is : \"+ str(score)+\"%\");\n",
    "\n",
    "def play_again():\n",
    "    response=input(\"Do you want to play again? (yes or no): \")\n",
    "    response=response.upper()\n",
    "    if response==\"YES\":\n",
    "        return True\n",
    "    else:\n",
    "        return False\n",
    "\n",
    "print(\"************** WELCOME TO OUR QUIZ GAME ***************\")\n",
    "questions={\"who is known as father of computer: \":\"A\",\n",
    "\"who is pm of india?: \": \"B\",\n",
    "\"where is the capital of India? :\":\"C\",\n",
    "\"is the Earth round?: \":\"A\"}\n",
    "options=[[\"A.charles babbage \", \"B. Elon musk\",\"C.Bill Gates\",\"D.Mark zukerberg\"],\n",
    "[\"A.rahul\",\"B.Narendra Modi\",\"C.Amit sah\",\"D.Shashi Tharoor\"],\n",
    "[\"A.kolkata\",\"B.patna\",\"C.Delhi\",\"D.mumbai\"],\n",
    "[\"A.yes\",\"B.No\",\"C.maybe\",\"D.can't say\"]\n",
    "]\n",
    "new_game()\n",
    "\n",
    "while play_again():\n",
    "    new_game()\n",
    "print(\"Byeeeee\")"
   ]
  },
  {
   "cell_type": "markdown",
   "metadata": {},
   "source": []
  },
  {
   "cell_type": "code",
   "execution_count": null,
   "metadata": {},
   "outputs": [],
   "source": [
    "from array import *\n",
    "a=array(\"i\",[2,4,6,3,56,67,12])\n",
    "b=array(\"i\",[2,4,5,6])\n",
    "c=array(\"i\",[])\n",
    "a.extend(b)\n",
    "for i in a:\n",
    "    print(i)"
   ]
  },
  {
   "cell_type": "code",
   "execution_count": null,
   "metadata": {},
   "outputs": [],
   "source": [
    "#converter program\n",
    "a=int(input(\"enter value in km -: end=\"\"\"))\n",
    "miles=a*0.6\n",
    "print(\"the value of given km is:\",miles)"
   ]
  },
  {
   "cell_type": "code",
   "execution_count": null,
   "metadata": {},
   "outputs": [],
   "source": [
    "import random\n",
    "r1=random.randint(5,10)\n",
    "print(r1)\n",
    "#for i in r1:\n",
    " #   print(i)\n"
   ]
  },
  {
   "cell_type": "code",
   "execution_count": null,
   "metadata": {},
   "outputs": [],
   "source": [
    "#rock paper scissor game\n",
    "import random\n",
    "print(\"------------ROCK PAPER SCISSORS GAME-------------- \")\n",
    "count = 0\n",
    "n=0\n",
    "while n<5:\n",
    "    apnaChoice=input(\"enter any choices:- (rock,paper,scissors)\")\n",
    "    totalChoice=[\"rock\",\"paper\",\"scissors\"]\n",
    "    computerSoch=random.choice(totalChoice)\n",
    "    print(f\"u chose :{apnaChoice} \")\n",
    "    print(f\"computer chose:{computerSoch}\")\n",
    "    if apnaChoice==computerSoch:\n",
    "        print(\"its a tie\\n\")\n",
    "\n",
    "    elif apnaChoice=='rock':\n",
    "        if computerSoch == 'scissors':\n",
    "            print(\"rock smashes scissors,you won\\n\")\n",
    "            count +=1\n",
    "        else:\n",
    "            print(\"paper cover rocks,you lose\\n\")\n",
    "    elif apnaChoice == 'paper':\n",
    "        if computerSoch=='rock':\n",
    "            print(\"paper cover rock,you won\\n\")\n",
    "            count +=1\n",
    "        else:\n",
    "        \n",
    "            print(\"scissors cut paper,you lose\\n\")\n",
    "    else:\n",
    "        if computerSoch=='paper':\n",
    "            print(\"scissors cut paper,you won\\n\")\n",
    "            count +=1\n",
    "        else:\n",
    "            print(\"rock smashes scissors,you lose\\n\")\n",
    "    n +=1\n",
    "if count > n/2:\n",
    "    print(\" congratulations !! you won \")\n",
    "    print(f\"out of {n} your score is : \",count)\n",
    "elif count < n/2:\n",
    "    print(\"oh sad....please try again\")\n",
    "    print(f\"out of {n} your score is : \",count)\n",
    "else:\n",
    "    print(\"its a tie\")\n",
    "    \n",
    "\n",
    "\n",
    "\n",
    "        \n",
    "    "
   ]
  },
  {
   "cell_type": "code",
   "execution_count": null,
   "metadata": {},
   "outputs": [],
   "source": [
    "#jokes telling apps\n",
    "import random\n",
    "print(\"-------------welcome to our jokes Generator application------------\\n\")\n",
    "print(\"mera jokes generator ka angrezi  bahut kharab hai....to kripya judge na kare\")\n",
    "place=['tree','table','dance floor','museum']\n",
    "who=[\"ram\",\"shyam\",\"sita\",\"avneet\",\"avnish\"]\n",
    "adjective=[\"dances\",\"sings\",\"listens\",\"eats\"]\n",
    "occupation=[\"pizza\",\"song\",\"burger\",\"jokes\"]\n",
    "print(\"---> on\",random.choice(place) ,random.choice(who),random.choice(adjective),random.choice(occupation))\n",
    "print(\"--------------- keep smiling--------------\")"
   ]
  },
  {
   "cell_type": "code",
   "execution_count": null,
   "metadata": {},
   "outputs": [],
   "source": [
    "pip install forex-python\n"
   ]
  },
  {
   "cell_type": "code",
   "execution_count": null,
   "metadata": {},
   "outputs": [],
   "source": [
    "#currency converter\n",
    "from forex_python.converter import CurrencyRates\n",
    "cr=CurrencyRates()\n",
    "a=int(input(\"enter amount   end=\"\"\"))\n",
    "b=input(\"enter the currency of amount you entered end=\"\"\").upper()\n",
    "c=input(\"enter in which currency you want end=\"\"\").upper()\n",
    "d=cr.convert(b,c,a)\n",
    "print(d)\n"
   ]
  }
 ],
 "metadata": {
  "kernelspec": {
   "display_name": "base",
   "language": "python",
   "name": "python3"
  },
  "language_info": {
   "codemirror_mode": {
    "name": "ipython",
    "version": 3
   },
   "file_extension": ".py",
   "mimetype": "text/x-python",
   "name": "python",
   "nbconvert_exporter": "python",
   "pygments_lexer": "ipython3",
   "version": "3.9.13"
  },
  "orig_nbformat": 4,
  "vscode": {
   "interpreter": {
    "hash": "2b1cf4e7f9aacababac0a2c0d0eaf7c71f7d1fbe85112eae298e121a3f84699f"
   }
  }
 },
 "nbformat": 4,
 "nbformat_minor": 2
}
